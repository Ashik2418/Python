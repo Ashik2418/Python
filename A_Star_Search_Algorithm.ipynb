{
  "nbformat": 4,
  "nbformat_minor": 0,
  "metadata": {
    "colab": {
      "provenance": []
    },
    "kernelspec": {
      "name": "python3",
      "display_name": "Python 3"
    },
    "language_info": {
      "name": "python"
    }
  },
  "cells": [
    {
      "cell_type": "code",
      "source": [
        "from queue import PriorityQueue\n",
        "\n",
        "graph = {\n",
        "    'A': [('B', 1), ('C', 4)],\n",
        "    'B': [('D', 5), ('E', 2)],\n",
        "    'C': [('F', 5)],\n",
        "    'D': [],\n",
        "    'E': [('G', 1)],\n",
        "    'F': [],\n",
        "    'G': []\n",
        "}\n",
        "\n",
        "heuristic = {\n",
        "    'A': 7,\n",
        "    'B': 6,\n",
        "    'C': 5,\n",
        "    'D': 4,\n",
        "    'E': 2,\n",
        "    'F': 6,\n",
        "    'G': 8\n",
        "}\n",
        "\n",
        "def a_star_search(start, goal):\n",
        "    pq = PriorityQueue()\n",
        "    pq.put((heuristic[start], 0, start, [start]))\n",
        "    visited = set()\n",
        "\n",
        "    while not pq.empty():\n",
        "        f, g, current, path = pq.get()\n",
        "        print(\"Visited:\", current)\n",
        "\n",
        "        if current == goal:\n",
        "            print(\"Goal Found!\", path)\n",
        "            return path\n",
        "\n",
        "        visited.add(current)\n",
        "\n",
        "        for neighbor, cost in graph[current]:\n",
        "            if neighbor not in visited:\n",
        "                new_g = g + cost\n",
        "                new_f = new_g + heuristic[neighbor]\n",
        "                pq.put((new_f, new_g, neighbor, path + [neighbor]))\n",
        "\n",
        "    print(\"Goal not reachable.\")\n",
        "    return None\n",
        "\n",
        "\n",
        "a_star_search('A', 'G')\n"
      ],
      "metadata": {
        "colab": {
          "base_uri": "https://localhost:8080/"
        },
        "id": "5adIGzTMvlQC",
        "outputId": "2a9d3953-8737-4449-edf0-4d97a75ba381"
      },
      "execution_count": 18,
      "outputs": [
        {
          "output_type": "stream",
          "name": "stdout",
          "text": [
            "Visited: A\n",
            "Visited: B\n",
            "Visited: E\n",
            "Visited: C\n",
            "Visited: D\n",
            "Visited: G\n",
            "Goal Found! ['A', 'B', 'E', 'G']\n"
          ]
        },
        {
          "output_type": "execute_result",
          "data": {
            "text/plain": [
              "['A', 'B', 'E', 'G']"
            ]
          },
          "metadata": {},
          "execution_count": 18
        }
      ]
    },
    {
      "cell_type": "markdown",
      "source": [
        "# **Using Another Graph & Cost**"
      ],
      "metadata": {
        "id": "94cQAKezxVBr"
      }
    },
    {
      "cell_type": "code",
      "source": [
        "from queue import PriorityQueue\n",
        "graph = {\n",
        "    'A': [('D', 6), ('E', 4), ('F', 5)],\n",
        "    'D': [('B', 3), ('M', 4)],\n",
        "    'E': [('M', 5), ('K', 3)],\n",
        "    'F': [('K', 3)],\n",
        "    'B': [('M', 2)],\n",
        "    'M': [('G', 2)],\n",
        "    'K': [('G', 6)],\n",
        "    'G': []\n",
        "}\n",
        "\n",
        "heuristic = {\n",
        "    'A': 18,\n",
        "    'D': 17,\n",
        "    'E': 15,\n",
        "    'F': 16,\n",
        "    'B': 9,\n",
        "    'M': 7,\n",
        "    'K': 10,\n",
        "    'G': 0\n",
        "}\n",
        "\n",
        "def a_star_search(start, goal):\n",
        "    pq = PriorityQueue()\n",
        "    pq.put((heuristic[start], 0, start, [start]))\n",
        "    visited = set()\n",
        "\n",
        "    while not pq.empty():\n",
        "        f, g, current, path = pq.get()\n",
        "        print(\"Visited:\", current)\n",
        "\n",
        "        if current == goal:\n",
        "            print(\"Goal Found!\", path)\n",
        "            return path\n",
        "\n",
        "        visited.add(current)\n",
        "\n",
        "        for neighbor, cost in graph[current]:\n",
        "            if neighbor not in visited:\n",
        "                new_g = g + cost\n",
        "                new_f = new_g + heuristic[neighbor]\n",
        "                pq.put((new_f, new_g, neighbor, path + [neighbor]))\n",
        "\n",
        "    print(\"Goal not reachable.\")\n",
        "    return None\n",
        "\n",
        "\n",
        "a_star_search('A', 'G')"
      ],
      "metadata": {
        "colab": {
          "base_uri": "https://localhost:8080/"
        },
        "id": "1iDJGu8KxBkJ",
        "outputId": "26bb551c-0f61-4ecc-bece-43d5308f1493"
      },
      "execution_count": 19,
      "outputs": [
        {
          "output_type": "stream",
          "name": "stdout",
          "text": [
            "Visited: A\n",
            "Visited: E\n",
            "Visited: M\n",
            "Visited: G\n",
            "Goal Found! ['A', 'E', 'M', 'G']\n"
          ]
        },
        {
          "output_type": "execute_result",
          "data": {
            "text/plain": [
              "['A', 'E', 'M', 'G']"
            ]
          },
          "metadata": {},
          "execution_count": 19
        }
      ]
    }
  ]
}