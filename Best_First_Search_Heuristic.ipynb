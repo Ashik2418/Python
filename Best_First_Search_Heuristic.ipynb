{
  "nbformat": 4,
  "nbformat_minor": 0,
  "metadata": {
    "colab": {
      "provenance": []
    },
    "kernelspec": {
      "name": "python3",
      "display_name": "Python 3"
    },
    "language_info": {
      "name": "python"
    }
  },
  "cells": [
    {
      "cell_type": "code",
      "execution_count": 1,
      "metadata": {
        "id": "QaoXdA5QdEbN"
      },
      "outputs": [],
      "source": [
        "from queue import PriorityQueue"
      ]
    },
    {
      "cell_type": "code",
      "source": [
        "graph = {\n",
        "    'A': [('B', 1), ('C', 3)],\n",
        "    'B': [('D', 3),('E', 1)],\n",
        "    'C': [('F', 5)],\n",
        "    'D':[],\n",
        "    'E':[('G', 2)],\n",
        "    'F':[],\n",
        "    'G':[]\n",
        "}\n",
        "\n",
        "heuristic = {\n",
        "    'A' : 5,\n",
        "    'B' : 3,\n",
        "    'C' : 4,\n",
        "    'D' : 6,\n",
        "    'E' : 2,\n",
        "    'F' : 6,\n",
        "    'G' : 8\n",
        "\n",
        "}"
      ],
      "metadata": {
        "id": "Bm0ntgrwdhEy"
      },
      "execution_count": 5,
      "outputs": []
    },
    {
      "cell_type": "code",
      "source": [
        "def best_first_search(start, goal):\n",
        "  visited = set()\n",
        "  pq = PriorityQueue()\n",
        "  pq.put((heuristic[start], start))\n",
        "  while not pq.empty():\n",
        "    _, current = pq.get()\n",
        "    print(\"Visited:\",current)\n",
        "    if current == goal:\n",
        "      print(\"Goal Found!\")\n",
        "      return visited\n",
        "    visited.add(current)\n",
        "    for neighbor, _ in graph[current]:\n",
        "      if neighbor not in visited:\n",
        "        pq.put((heuristic[neighbor], neighbor))\n"
      ],
      "metadata": {
        "id": "JuvN1ilafJc_"
      },
      "execution_count": 6,
      "outputs": []
    },
    {
      "cell_type": "code",
      "source": [
        "best_first_search(\"A\", \"G\")"
      ],
      "metadata": {
        "colab": {
          "base_uri": "https://localhost:8080/"
        },
        "id": "mZ2Hc0odf8Fa",
        "outputId": "8451e88f-33da-4f7c-fceb-6d82a6b8fe25"
      },
      "execution_count": 7,
      "outputs": [
        {
          "output_type": "stream",
          "name": "stdout",
          "text": [
            "Visited: A\n",
            "Visited: B\n",
            "Visited: E\n",
            "Visited: C\n",
            "Visited: D\n",
            "Visited: F\n",
            "Visited: G\n",
            "Goal Found!\n"
          ]
        },
        {
          "output_type": "execute_result",
          "data": {
            "text/plain": [
              "{'A', 'B', 'C', 'D', 'E', 'F'}"
            ]
          },
          "metadata": {},
          "execution_count": 7
        }
      ]
    }
  ]
}