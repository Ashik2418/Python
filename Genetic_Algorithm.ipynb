{
  "nbformat": 4,
  "nbformat_minor": 0,
  "metadata": {
    "colab": {
      "provenance": []
    },
    "kernelspec": {
      "name": "python3",
      "display_name": "Python 3"
    },
    "language_info": {
      "name": "python"
    }
  },
  "cells": [
    {
      "cell_type": "code",
      "execution_count": 2,
      "metadata": {
        "colab": {
          "base_uri": "https://localhost:8080/"
        },
        "id": "nOvBkySbNdeA",
        "outputId": "cc60da18-fb39-41d9-c517-f3e18b18b517"
      },
      "outputs": [
        {
          "output_type": "stream",
          "name": "stdout",
          "text": [
            "Initial Population: ['00011', '01100', '10111', '11001', '00000', '01010']\n",
            "\n",
            "Generation 1\n",
            "Selected Parents: 11001, 10111\n",
            "Offspring before mutation: 11001, 10111\n",
            "Offspring after mutation: 01001, 10111\n",
            "Best chromosome: 11001 (x = 25, f(x) = 625)\n",
            "\n",
            "Final Best Solution:\n",
            "Chromosome: 11001, Decimal: 25, Fitness: 625\n"
          ]
        }
      ],
      "source": [
        "import random\n",
        "\n",
        "# Convert binary string to integer\n",
        "def binary_to_decimal(binary):\n",
        "    return int(binary, 2)\n",
        "\n",
        "# Fitness function: f(x) = x^2\n",
        "def fitness(chromosome):\n",
        "    x = binary_to_decimal(chromosome)\n",
        "    return x ** 2\n",
        "\n",
        "# Generate random chromosome of given length\n",
        "def generate_chromosome(length):\n",
        "    return ''.join(random.choice('01') for _ in range(length))\n",
        "\n",
        "# Select two best chromosomes from population\n",
        "def selection(population):\n",
        "    sorted_population = sorted(population, key=fitness, reverse=True)\n",
        "    return sorted_population[:2]\n",
        "\n",
        "# One-point crossover\n",
        "def crossover(parent1, parent2):\n",
        "    point = random.randint(1, len(parent1) - 1)\n",
        "    child1 = parent1[:point] + parent2[point:]\n",
        "    child2 = parent2[:point] + parent1[point:]\n",
        "    return child1, child2\n",
        "\n",
        "# Mutation (flip one random bit)\n",
        "def mutate(chromosome, mutation_rate=0.1):\n",
        "    chromosome = list(chromosome)\n",
        "    for i in range(len(chromosome)):\n",
        "        if random.random() < mutation_rate:\n",
        "            chromosome[i] = '1' if chromosome[i] == '0' else '0'\n",
        "    return ''.join(chromosome)\n",
        "\n",
        "# Main Genetic Algorithm\n",
        "def genetic_algorithm():\n",
        "    population_size = 6\n",
        "    chromosome_length = 5\n",
        "    generations = 1\n",
        "\n",
        "    # Initialize random population\n",
        "    population = [generate_chromosome(chromosome_length) for _ in range(population_size)]\n",
        "    print(\"Initial Population:\", population)\n",
        "\n",
        "    for generation in range(generations):\n",
        "        print(f\"\\nGeneration {generation + 1}\")\n",
        "\n",
        "        # Selection\n",
        "        parent1, parent2 = selection(population)\n",
        "        print(f\"Selected Parents: {parent1}, {parent2}\")\n",
        "\n",
        "        # Crossover\n",
        "        child1, child2 = crossover(parent1, parent2)\n",
        "        print(f\"Offspring before mutation: {child1}, {child2}\")\n",
        "\n",
        "        # Mutation\n",
        "        child1 = mutate(child1)\n",
        "        child2 = mutate(child2)\n",
        "        print(f\"Offspring after mutation: {child1}, {child2}\")\n",
        "\n",
        "        # Replace worst two in population with new children\n",
        "        population = sorted(population, key=fitness, reverse=True)[:-2] + [child1, child2]\n",
        "\n",
        "        # Print best result\n",
        "        best = max(population, key=fitness)\n",
        "        print(f\"Best chromosome: {best} (x = {binary_to_decimal(best)}, f(x) = {fitness(best)})\")\n",
        "\n",
        "    print(\"\\nFinal Best Solution:\")\n",
        "    best = max(population, key=fitness)\n",
        "    print(f\"Chromosome: {best}, Decimal: {binary_to_decimal(best)}, Fitness: {fitness(best)}\")\n",
        "\n",
        "# Run the GA\n",
        "genetic_algorithm()\n"
      ]
    }
  ]
}