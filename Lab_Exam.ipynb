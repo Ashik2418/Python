{
  "nbformat": 4,
  "nbformat_minor": 0,
  "metadata": {
    "colab": {
      "provenance": []
    },
    "kernelspec": {
      "name": "python3",
      "display_name": "Python 3"
    },
    "language_info": {
      "name": "python"
    }
  },
  "cells": [
    {
      "cell_type": "markdown",
      "source": [
        "# **Question 3**"
      ],
      "metadata": {
        "id": "w8dY166UYM2f"
      }
    },
    {
      "cell_type": "code",
      "execution_count": null,
      "metadata": {
        "colab": {
          "base_uri": "https://localhost:8080/"
        },
        "id": "df18UBeHW8Hy",
        "outputId": "d11e4f59-5bc7-4709-af54-bbb5caf90065"
      },
      "outputs": [
        {
          "output_type": "stream",
          "name": "stdout",
          "text": [
            "5\n",
            "10\n",
            "15\n",
            "50\n",
            "-5\n",
            "0.5\n",
            "5\n"
          ]
        }
      ],
      "source": [
        "def sum(a, b):\n",
        "    return a + b\n",
        "\n",
        "def multi(a, b):\n",
        "    return a * b\n",
        "def subs(a, b):\n",
        "    return(a - b)\n",
        "\n",
        "def div(a, b):\n",
        "    return a / b\n",
        "\n",
        "def remain(a, b):\n",
        "    return a % b\n",
        "\n",
        "\n",
        "a = int(input())\n",
        "b = int(input())\n",
        "\n",
        "\n",
        "\n",
        "print(sum(a, b))\n",
        "print(multi(a, b))\n",
        "print(subs(a, b))\n",
        "print(div(a, b))\n",
        "print(remain(a, b))"
      ]
    },
    {
      "cell_type": "markdown",
      "source": [
        "# **Question 1**"
      ],
      "metadata": {
        "id": "Xy5Ife6PYSvA"
      }
    },
    {
      "cell_type": "code",
      "source": [],
      "metadata": {
        "id": "2N2EuLm-afte"
      },
      "execution_count": null,
      "outputs": []
    },
    {
      "cell_type": "code",
      "source": [
        "user_input = input(int)\n",
        "my_list = user_input.split()\n",
        "\n",
        "\n",
        "my_list = [int(x) for x in my_list]\n",
        "\n",
        "\n",
        "element = int(input(\"Enter the element count: \"))\n",
        "\n",
        "count = 0\n",
        "for item in my_list:\n",
        "    if item == element:\n",
        "        count += 1\n",
        "\n",
        "print( (count))\n"
      ],
      "metadata": {
        "colab": {
          "base_uri": "https://localhost:8080/"
        },
        "id": "rkjJvI09XKH4",
        "outputId": "1daeef66-6bdc-43a6-ffb2-7b48df7bbaf3"
      },
      "execution_count": null,
      "outputs": [
        {
          "output_type": "stream",
          "name": "stdout",
          "text": [
            "<class 'int'>1 2 3 4 4 4 4 4\n",
            "Enter the element count: 4\n",
            "5\n"
          ]
        }
      ]
    },
    {
      "cell_type": "markdown",
      "source": [
        "# **Question 2**"
      ],
      "metadata": {
        "id": "af4B6bg8YVa7"
      }
    },
    {
      "cell_type": "code",
      "source": [
        "def sum_series(n,m):\n",
        "  total = 0\n",
        "  current = n\n",
        "  while current <=m:\n",
        "    total = total + current\n",
        "    current = current + 3\n",
        "  return total\n",
        "\n",
        "n = int(input())\n",
        "m = int(input())\n",
        "print(\"Sum of the series:\", sum_series(n, m))"
      ],
      "metadata": {
        "colab": {
          "base_uri": "https://localhost:8080/"
        },
        "id": "LX46HkRoZkhl",
        "outputId": "15fb2bc2-5761-4080-c0ad-0b57717956f9"
      },
      "execution_count": null,
      "outputs": [
        {
          "output_type": "stream",
          "name": "stdout",
          "text": [
            "Enter the starting number (n): 2\n",
            "Enter the ending number (m): 10\n",
            "Sum of the series: 15\n"
          ]
        }
      ]
    },
    {
      "cell_type": "code",
      "source": [],
      "metadata": {
        "id": "8ycLKHs2cFtn"
      },
      "execution_count": null,
      "outputs": []
    }
  ]
}