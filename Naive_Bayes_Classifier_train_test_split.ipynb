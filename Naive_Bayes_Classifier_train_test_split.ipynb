{
  "nbformat": 4,
  "nbformat_minor": 0,
  "metadata": {
    "colab": {
      "provenance": []
    },
    "kernelspec": {
      "name": "python3",
      "display_name": "Python 3"
    },
    "language_info": {
      "name": "python"
    }
  },
  "cells": [
    {
      "cell_type": "markdown",
      "source": [
        "# **without using train_test_split libarary**"
      ],
      "metadata": {
        "id": "27TUtLRvobHF"
      }
    },
    {
      "cell_type": "code",
      "execution_count": 1,
      "metadata": {
        "colab": {
          "base_uri": "https://localhost:8080/"
        },
        "id": "VFNpo-JXmrcF",
        "outputId": "60c43dc1-5971-42b4-9e3f-1c000bdac59c"
      },
      "outputs": [
        {
          "output_type": "stream",
          "name": "stdout",
          "text": [
            "Accuracy: 0.8571428571428571\n",
            "\n",
            "Classification Report:\n",
            "               precision    recall  f1-score   support\n",
            "\n",
            "           0       0.80      0.80      0.80         5\n",
            "           1       0.89      0.89      0.89         9\n",
            "\n",
            "    accuracy                           0.86        14\n",
            "   macro avg       0.84      0.84      0.84        14\n",
            "weighted avg       0.86      0.86      0.86        14\n",
            "\n"
          ]
        }
      ],
      "source": [
        "import pandas as pd\n",
        "from sklearn.preprocessing import LabelEncoder\n",
        "from sklearn.naive_bayes import GaussianNB\n",
        "from sklearn.metrics import accuracy_score, classification_report\n",
        "\n",
        "# Given data\n",
        "outlook = ['S', 'S', 'O', 'R', 'R', 'R', 'O', 'S', 'S', 'S', 'O', 'O', 'R', 'R']\n",
        "temp = ['H', 'H', 'H', 'C', 'C', 'C', 'H', 'C', 'M', 'M', 'M', 'H', 'M', 'M']\n",
        "humidity = ['H', 'H', 'H', 'H', 'N', 'N', 'N', 'H', 'H', 'H', 'N', 'N', 'H', 'N']\n",
        "windy = ['F', 'T', 'F', 'F', 'F', 'T', 'T', 'F', 'F', 'T', 'T', 'F', 'T', 'T']\n",
        "play = ['N', 'N', 'P', 'P', 'P', 'N', 'P', 'N', 'P', 'P', 'P', 'P', 'P', 'N']\n",
        "\n",
        "# Create DataFrame\n",
        "data = pd.DataFrame({\n",
        "    'Outlook': outlook,\n",
        "    'Temp': temp,\n",
        "    'Humidity': humidity,\n",
        "    'Windy': windy,\n",
        "    'Play': play\n",
        "})\n",
        "\n",
        "# Encode categorical variables\n",
        "le = LabelEncoder()\n",
        "for col in data.columns:\n",
        "    data[col] = le.fit_transform(data[col])\n",
        "\n",
        "# Separate features and target\n",
        "X = data.drop('Play', axis=1)\n",
        "y = data['Play']\n",
        "\n",
        "# Train Naive Bayes model\n",
        "model = GaussianNB()\n",
        "model.fit(X, y)\n",
        "\n",
        "# Predict on training data\n",
        "predictions = model.predict(X)\n",
        "\n",
        "# Output results\n",
        "print(\"Accuracy:\", accuracy_score(y, predictions))\n",
        "print(\"\\nClassification Report:\\n\", classification_report(y, predictions))"
      ]
    },
    {
      "cell_type": "markdown",
      "source": [
        "# **Using train_test_split library**"
      ],
      "metadata": {
        "id": "M-jAzXvooVeX"
      }
    },
    {
      "cell_type": "code",
      "source": [
        "import pandas as pd\n",
        "from sklearn.preprocessing import LabelEncoder\n",
        "from sklearn.naive_bayes import GaussianNB\n",
        "from sklearn.metrics import accuracy_score, classification_report\n",
        "from sklearn.model_selection import train_test_split\n",
        "\n",
        "# Given data\n",
        "outlook = ['S', 'S', 'O', 'R', 'R', 'R', 'O', 'S', 'S', 'S', 'O', 'O', 'R', 'R']\n",
        "temp = ['H', 'H', 'H', 'C', 'C', 'C', 'H', 'C', 'M', 'M', 'M', 'H', 'M', 'M']\n",
        "humidity = ['H', 'H', 'H', 'H', 'N', 'N', 'N', 'H', 'H', 'H', 'N', 'N', 'H', 'N']\n",
        "windy = ['F', 'T', 'F', 'F', 'F', 'T', 'T', 'F', 'F', 'T', 'T', 'F', 'T', 'T']\n",
        "play = ['N', 'N', 'P', 'P', 'P', 'N', 'P', 'N', 'P', 'P', 'P', 'P', 'P', 'N']\n",
        "\n",
        "# Create DataFrame\n",
        "data = pd.DataFrame({\n",
        "    'Outlook': outlook,\n",
        "    'Temp': temp,\n",
        "    'Humidity': humidity,\n",
        "    'Windy': windy,\n",
        "    'Play': play\n",
        "})\n",
        "\n",
        "# Encode categorical variables\n",
        "le = LabelEncoder()\n",
        "for col in data.columns:\n",
        "    data[col] = le.fit_transform(data[col])\n",
        "\n",
        "# Separate features and target\n",
        "X = data.drop('Play', axis=1)\n",
        "y = data['Play']\n",
        "\n",
        "# Split data: 80% training and 20% testing\n",
        "X_train, X_test, y_train, y_test = train_test_split(X, y, test_size=0.2)\n",
        "\n",
        "# Train Naive Bayes model\n",
        "model = GaussianNB()\n",
        "model.fit(X_train, y_train)\n",
        "\n",
        "# Predict on test data\n",
        "predictions = model.predict(X_test)\n",
        "\n",
        "# Output results\n",
        "print(\"Accuracy:\", accuracy_score(y_test, predictions))\n",
        "print(\"\\nClassification Report:\\n\", classification_report(y_test, predictions))\n"
      ],
      "metadata": {
        "colab": {
          "base_uri": "https://localhost:8080/"
        },
        "id": "70kZAKaKnZa1",
        "outputId": "b833b029-848a-4628-c61e-2a5e982715d1"
      },
      "execution_count": 5,
      "outputs": [
        {
          "output_type": "stream",
          "name": "stdout",
          "text": [
            "Accuracy: 0.6666666666666666\n",
            "\n",
            "Classification Report:\n",
            "               precision    recall  f1-score   support\n",
            "\n",
            "           0       0.00      0.00      0.00         1\n",
            "           1       0.67      1.00      0.80         2\n",
            "\n",
            "    accuracy                           0.67         3\n",
            "   macro avg       0.33      0.50      0.40         3\n",
            "weighted avg       0.44      0.67      0.53         3\n",
            "\n"
          ]
        },
        {
          "output_type": "stream",
          "name": "stderr",
          "text": [
            "/usr/local/lib/python3.11/dist-packages/sklearn/metrics/_classification.py:1565: UndefinedMetricWarning: Precision is ill-defined and being set to 0.0 in labels with no predicted samples. Use `zero_division` parameter to control this behavior.\n",
            "  _warn_prf(average, modifier, f\"{metric.capitalize()} is\", len(result))\n",
            "/usr/local/lib/python3.11/dist-packages/sklearn/metrics/_classification.py:1565: UndefinedMetricWarning: Precision is ill-defined and being set to 0.0 in labels with no predicted samples. Use `zero_division` parameter to control this behavior.\n",
            "  _warn_prf(average, modifier, f\"{metric.capitalize()} is\", len(result))\n",
            "/usr/local/lib/python3.11/dist-packages/sklearn/metrics/_classification.py:1565: UndefinedMetricWarning: Precision is ill-defined and being set to 0.0 in labels with no predicted samples. Use `zero_division` parameter to control this behavior.\n",
            "  _warn_prf(average, modifier, f\"{metric.capitalize()} is\", len(result))\n"
          ]
        }
      ]
    }
  ]
}