{
  "nbformat": 4,
  "nbformat_minor": 0,
  "metadata": {
    "colab": {
      "provenance": []
    },
    "kernelspec": {
      "name": "python3",
      "display_name": "Python 3"
    },
    "language_info": {
      "name": "python"
    }
  },
  "cells": [
    {
      "cell_type": "code",
      "execution_count": 14,
      "metadata": {
        "id": "KbvXmfpxkQQb"
      },
      "outputs": [],
      "source": [
        "def dtep_function(value):\n",
        "  if value >= 0:\n",
        "    return 1\n",
        "  else:\n",
        "    return 0"
      ]
    },
    {
      "cell_type": "code",
      "source": [
        "class perceptron:\n",
        "  def __init__(self, learning_rate=0.1, epochs=1):\n",
        "    self.weights = [0, 0, 0]\n",
        "    self.bias = 0\n",
        "    self.learning_rate = learning_rate\n",
        "    self.epochs = epochs\n",
        "\n",
        "  def step_function(self, x):\n",
        "    return 1 if x >= 0 else 0\n",
        "\n",
        "  def predict(self, inputs):\n",
        "    summation = sum(i * w for i, w in zip(inputs, self.weights)) + self.bias\n",
        "    return self.step_function(summation)\n",
        "\n",
        "  def train(self, training_inputs, labels):\n",
        "    for epoch in range(self.epochs):\n",
        "      print(f\"Epoch {epoch+1}\")\n",
        "      for inputs, label in zip(training_inputs, labels):\n",
        "        prediction = self.predict(inputs)\n",
        "        error = label - prediction\n",
        "        for i in range(len(self.weights)):\n",
        "          self.weights[i] += self.learning_rate * error * inputs[i]\n",
        "        self.bias += self.learning_rate * error\n",
        "        print(f\"Inputs: {inputs}, Target: {label}, Prediction: {prediction}, Error: {error}\")\n",
        "      print(f\"Weights: {self.weights}, Bias: {self.bias}\\n\")\n",
        "\n",
        "\n",
        "training_inputs = [\n",
        "    [0, 0, 0],\n",
        "    [0, 1, 0],\n",
        "    [1, 1, 1],\n",
        "    [1, 0, 1],\n",
        "    [1, 0, 0],\n",
        "    [0, 1, 1]\n",
        "]\n",
        "labels = [0, 1, 1, 0, 1, 1]\n",
        "\n",
        "p = perceptron()\n",
        "p.train(training_inputs, labels)\n",
        "\n",
        "print(\"Testing trained Perceptron:\")\n",
        "for inputs in training_inputs:\n",
        "  print(f\"Input: {inputs}, Output: {p.predict(inputs)}\")\n"
      ],
      "metadata": {
        "colab": {
          "base_uri": "https://localhost:8080/"
        },
        "id": "N-OcnIYJko58",
        "outputId": "3c7180ba-b558-4024-dd0e-2c3e3ec0804c"
      },
      "execution_count": 21,
      "outputs": [
        {
          "output_type": "stream",
          "name": "stdout",
          "text": [
            "Epoch 1\n",
            "Inputs: [0, 0, 0], Target: 0, Prediction: 1, Error: -1\n",
            "Inputs: [0, 1, 0], Target: 1, Prediction: 0, Error: 1\n",
            "Inputs: [1, 1, 1], Target: 1, Prediction: 1, Error: 0\n",
            "Inputs: [1, 0, 1], Target: 0, Prediction: 1, Error: -1\n",
            "Inputs: [1, 0, 0], Target: 1, Prediction: 0, Error: 1\n",
            "Inputs: [0, 1, 1], Target: 1, Prediction: 1, Error: 0\n",
            "Weights: [0.0, 0.1, -0.1], Bias: 0.0\n",
            "\n",
            "Testing trained Perceptron:\n",
            "Input: [0, 0, 0], Output: 1\n",
            "Input: [0, 1, 0], Output: 1\n",
            "Input: [1, 1, 1], Output: 1\n",
            "Input: [1, 0, 1], Output: 0\n",
            "Input: [1, 0, 0], Output: 1\n",
            "Input: [0, 1, 1], Output: 1\n"
          ]
        }
      ]
    }
  ]
}